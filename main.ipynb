{
 "cells": [
  {
   "cell_type": "code",
   "execution_count": null,
   "id": "initial_id",
   "metadata": {
    "collapsed": true
   },
   "outputs": [],
   "source": [
    "import pandas as pd\n",
    "df_dev = pd.read_csv(\"data/development.csv\")\n",
    "df_eva = pd.read_csv(\"data/evaluation.csv\")\n",
    "df_merged = pd.merge(df_dev, df_eva, sort=False)"
   ]
  },
  {
   "cell_type": "markdown",
   "id": "433c0d673f81d293",
   "metadata": {},
   "source": [
    "Keep only negpmax & pmax"
   ]
  },
  {
   "cell_type": "code",
   "execution_count": null,
   "id": "8056e9122db1fa27",
   "metadata": {
    "is_executing": true
   },
   "outputs": [],
   "source": [
    "columns_to_remove = []\n",
    "\n",
    "for i in [0, 7, 12, 15, 16, 17]:\n",
    "    columns_to_remove.extend([f\"pmax[{i}]\", f\"negpmax[{i}]\"])\n",
    "for i in range(0,18):\n",
    "    columns_to_remove.extend([f\"area[{i}]\",f\"tmax[{i}]\", f\"rms[{i}]\"])\n",
    "columns_to_remove.extend([\"Id\"])\n",
    "df_merged_dropped = df_merged.drop(columns=columns_to_remove)\n",
    "df_merged_dropped.columns"
   ]
  },
  {
   "cell_type": "code",
   "execution_count": null,
   "id": "e26438db72dfa3c8",
   "metadata": {},
   "outputs": [],
   "source": [
    "train_valid_mask = ~df_merged_dropped[\"x\"].isna()\n",
    "feature_names = df_merged_dropped[train_valid_mask].drop(columns=[\"x\", \"y\"]).columns\n",
    "X = df_merged_dropped.drop(columns=[\"x\", \"y\"])\n",
    "y = df_merged_dropped[[\"x\", \"y\"]].values\n",
    "X_train_valid = X[train_valid_mask]\n",
    "y_train_valid = y[train_valid_mask]\n",
    "X_test = X[~train_valid_mask]\n",
    "y_test = y[~train_valid_mask]"
   ]
  },
  {
   "cell_type": "markdown",
   "id": "486c496eb75baf27",
   "metadata": {},
   "source": [
    "GRID SEARCH"
   ]
  },
  {
   "cell_type": "code",
   "execution_count": null,
   "id": "414de2eadeaafef5",
   "metadata": {},
   "outputs": [],
   "source": [
    "from sklearn.model_selection import train_test_split\n",
    "X_train, X_valid, y_train, y_valid = train_test_split(X_train_valid, y_train_valid, shuffle=True, random_state=42)"
   ]
  },
  {
   "cell_type": "code",
   "execution_count": null,
   "id": "660e21f763fb577c",
   "metadata": {},
   "outputs": [],
   "source": [
    "from sklearn.model_selection import ParameterGrid\n",
    "from sklearn.ensemble import ExtraTreesRegressor\n",
    "from sklearn.multioutput import MultiOutputRegressor\n",
    "from sklearn.metrics.pairwise import paired_distances\n",
    "\n",
    "#params = {\n",
    "#    \"max_depth\": [26,27,28,29],\n",
    "#    \"n_estimators\":[300,400,500,600,700],\n",
    "#    \"random_state\":[42],\n",
    "#    \"max_features\":[None,\"sqrt\"],\n",
    "#    \"min_samples_split\":[2,3,4],\n",
    "#    \"criterion\":[\"friedman_mse\",\"mse\"]\n",
    "#}\n",
    "#\n",
    "#for config in ParameterGrid(params):\n",
    "#    print(\"fit started with conf: \", config)\n",
    "#    regr_multirf = MultiOutputRegressor(ExtraTreesRegressor(**config))\n",
    "#    regr_multirf.fit(X_train, y_train)\n",
    "#    y_pred = regr_multirf.predict(X_valid)\n",
    "#    distance = paired_distances(y_pred,y_valid).mean()\n",
    "#    print(\"fit ended with: \", distance)"
   ]
  },
  {
   "cell_type": "markdown",
   "id": "d99f511444bd4113",
   "metadata": {},
   "source": [
    "Best conf: 29, 700, 42, None, 2, friedman_mse"
   ]
  },
  {
   "cell_type": "code",
   "execution_count": null,
   "id": "938ac1b2d7386001",
   "metadata": {},
   "outputs": [],
   "source": [
    "regr_multirf = MultiOutputRegressor(\n",
    "    ExtraTreesRegressor(n_estimators=700, max_depth=29, random_state=42, criterion=\"friedman_mse\")\n",
    ")\n",
    "regr_multirf.fit(X_train_valid, y_train_valid)"
   ]
  },
  {
   "cell_type": "markdown",
   "id": "80ff6eb01dd846fd",
   "metadata": {},
   "source": [
    "Predict"
   ]
  },
  {
   "cell_type": "code",
   "execution_count": null,
   "id": "139b9e8f33c2e839",
   "metadata": {},
   "outputs": [],
   "source": [
    "y_test_pred = regr_multirf.predict(X_test)\n",
    "y_eva_pred = pd.DataFrame(y_test_pred, columns=['Colonna1', 'Colonna2'])\n",
    "y_eva_pred['indice'] = range(len(y_eva_pred))\n",
    "y_eva_pred['Concatenato'] = y_eva_pred.apply(lambda row: '|'.join(map(str, row[['Colonna1', 'Colonna2']])), axis=1)\n",
    "y_eva_pred = y_eva_pred.drop(['Colonna1', 'Colonna2', 'indice'], axis=1)\n",
    "y_eva_pred.to_csv(\"output.csv\", index_label=\"Id\", header=['Predicted'])"
   ]
  }
 ],
 "metadata": {
  "kernelspec": {
   "display_name": "Python 3 (ipykernel)",
   "language": "python",
   "name": "python3"
  },
  "language_info": {
   "codemirror_mode": {
    "name": "ipython",
    "version": 2
   },
   "file_extension": ".py",
   "mimetype": "text/x-python",
   "name": "python",
   "nbconvert_exporter": "python",
   "pygments_lexer": "ipython2",
   "version": "2.7.6"
  }
 },
 "nbformat": 4,
 "nbformat_minor": 5
}
